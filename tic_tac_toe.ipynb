{
 "cells": [
  {
   "cell_type": "code",
   "execution_count": 50,
   "metadata": {},
   "outputs": [
    {
     "name": "stdout",
     "output_type": "stream",
     "text": [
      "H\n",
      "e\n",
      "l\n",
      "l\n",
      "o\n",
      "!\n"
     ]
    },
    {
     "ename": "StopIteration",
     "evalue": "",
     "output_type": "error",
     "traceback": [
      "\u001b[1;31m---------------------------------------------------------------------------\u001b[0m",
      "\u001b[1;31mStopIteration\u001b[0m                             Traceback (most recent call last)",
      "Cell \u001b[1;32mIn[50], line 9\u001b[0m\n\u001b[0;32m      7\u001b[0m \u001b[38;5;28mprint\u001b[39m(\u001b[38;5;28mnext\u001b[39m(iter_obj)) \n\u001b[0;32m      8\u001b[0m \u001b[38;5;28mprint\u001b[39m(\u001b[38;5;28mnext\u001b[39m(iter_obj)) \n\u001b[1;32m----> 9\u001b[0m \u001b[38;5;28mprint\u001b[39m(\u001b[38;5;28;43mnext\u001b[39;49m\u001b[43m(\u001b[49m\u001b[43miter_obj\u001b[49m\u001b[43m)\u001b[49m) \n",
      "\u001b[1;31mStopIteration\u001b[0m: "
     ]
    }
   ],
   "source": [
    "def print_board(board):\n",
    "    print(\"   0 1 2\")\n",
    "    for i, row in enumerate(board):\n",
    "        print(f\"{i}  {' '.join(row)}\")\n",
    "\n",
    "def check_winner(board, player):\n",
    "    # Проверка строк, столбцов и диагоналей\n",
    "    win_lines = [\n",
    "        [board[0][0], board[0][1], board[0][2]],  # первая строка\n",
    "        [board[1][0], board[1][1], board[1][2]],  # вторая строка\n",
    "        [board[2][0], board[2][1], board[2][2]],  # третья строка\n",
    "        [board[0][0], board[1][0], board[2][0]],  # первый столбец\n",
    "        [board[0][1], board[1][1], board[2][1]],  # второй столбец\n",
    "        [board[0][2], board[1][2], board[2][2]],  # третий столбец\n",
    "        [board[0][0], board[1][1], board[2][2]],  # главная диагональ\n",
    "        [board[2][0], board[1][1], board[0][2]]   # обратная диагональ\n",
    "    ]\n",
    "    \n",
    "    if [player, player, player] in win_lines:\n",
    "        return True\n",
    "    return False\n",
    "\n",
    "def is_draw(board):\n",
    "    for row in board:\n",
    "        if '-' in row:\n",
    "            return False\n",
    "    return True\n",
    "\n",
    "def main():\n",
    "    board = [['-' for _ in range(3)] for _ in range(3)]\n",
    "    current_player = 'X'\n",
    "    \n",
    "    while True:\n",
    "        print_board(board)\n",
    "        print(f\"Ходит игрок {current_player}\")\n",
    "        row = int(input(\"Введите номер строки (0-2): \"))\n",
    "        col = int(input(\"Введите номер столбца (0-2): \"))\n",
    "\n",
    "        if board[row][col] == '-':\n",
    "            board[row][col] = current_player\n",
    "            \n",
    "            if check_winner(board, current_player):\n",
    "                print_board(board)\n",
    "                print(f\"Игрок {current_player} выиграл!\")\n",
    "                break\n",
    "            \n",
    "            if is_draw(board):\n",
    "                print_board(board)\n",
    "                print(\"Ничья!\")\n",
    "                break\n",
    "\n",
    "            current_player = 'O' if current_player == 'X' else 'X'\n",
    "        else:\n",
    "            print(\"Это место уже занято! Попробуйте снова.\")\n",
    "\n",
    "if __name__ == \"__main__\":\n",
    "    main()"
   ]
  }
 ],
 "metadata": {
  "kernelspec": {
   "display_name": "Python 3",
   "language": "python",
   "name": "python3"
  },
  "language_info": {
   "codemirror_mode": {
    "name": "ipython",
    "version": 3
   },
   "file_extension": ".py",
   "mimetype": "text/x-python",
   "name": "python",
   "nbconvert_exporter": "python",
   "pygments_lexer": "ipython3",
   "version": "3.10.11"
  }
 },
 "nbformat": 4,
 "nbformat_minor": 2
}
